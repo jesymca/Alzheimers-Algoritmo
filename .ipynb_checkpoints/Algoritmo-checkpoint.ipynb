{
 "cells": [
  {
   "cell_type": "markdown",
   "metadata": {},
   "source": [
    "# Alzheimer's Prediccion (Multi-Class) \n",
    "* Ver [Alzheimer's Prediccion](https://github.com/jesymca/Alzheimers-Prediccion) para un resumen de este proyecto"
   ]
  },
  {
   "attachments": {
    "image.png": {
     "image/png": "[encoded data removed]"
    }
   },
   "cell_type": "markdown",
   "metadata": {},
   "source": [
    "### Descripciones de variables\n",
    "* `Subject ID` Id asignado a los directorios de imágenes.\n",
    "* `MRI ID` Id de identificacion de Resonancia Magnetica\n",
    "* `Group` Grupo al que pertenece Demente o no Demente\n",
    "* `Visit` Numero de Visita\n",
    "* `MR Delay` Retraso de MR\n",
    "* `M/F` Masculino o Femenino\n",
    "* `Hand` Derecho o Izquierdo\n",
    "* `Age` Edad\n",
    "* `EDUC` Años de educacion\n",
    "* `SES` Estatus socioeconómico según lo evaluado por el índice de posición social de Hollingshead y clasificado en categorías de 1 (estatus más alto) a 5 (estatus más bajo)\n",
    "* `MMSE` Puntuación del Mini-Examen del Estado Mental del MMSE (el rango es de 0 peor a 30 mejor)\n",
    "* `CDR`\tClasificación clínica de demencia CDR. (0 = sin demencia, 0,5 = EA muy leve, 1 = EA leve, 2 = EA moderada)\n",
    "* `eTIV` Volumen intracraneal total estimado (cm3)\n",
    "* `nWBV` Volumen total del cerebro normalizado, expresado como porcentaje de todos los vóxeles en la imagen enmascarada del atlas que están etiquetados como materia gris o blanca por el proceso automatizado de segmentación de tejido\n",
    "* `ASF` Factor de escala calculado que transforma el cerebro y el cráneo del espacio nativo en el objetivo del atlas (es decir, el determinante de la matriz de transformación)\n",
    "![image.png](attachment:image.png)"
   ]
  },
  {
   "cell_type": "markdown",
   "metadata": {},
   "source": [
    "# Nota: este cuaderno está siendo refactorizado\n",
    "* Más AED\n",
    "* División adecuada de prueba\n",
    "* Use **AUC** como métrica principal para la evaluación, así como **Precisión**\n",
    "* Falta comparativa"
   ]
  },
  {
   "cell_type": "code",
   "execution_count": 1,
   "metadata": {
    "scrolled": false
   },
   "outputs": [],
   "source": [
    "import numpy as np\n",
    "import sklearn as sk\n",
    "import pandas as pd\n",
    "import os"
   ]
  },
  {
   "cell_type": "code",
   "execution_count": 2,
   "metadata": {
    "scrolled": true
   },
   "outputs": [
    {
     "data": {
      "text/plain": [
       "Subject ID     0\n",
       "MRI ID         0\n",
       "Group          0\n",
       "Visit          0\n",
       "MR Delay       0\n",
       "M/F            0\n",
       "Hand           0\n",
       "Age            0\n",
       "EDUC           0\n",
       "SES           19\n",
       "MMSE           2\n",
       "CDR            0\n",
       "eTIV           0\n",
       "nWBV           0\n",
       "ASF            0\n",
       "dtype: int64"
      ]
     },
     "execution_count": 2,
     "metadata": {},
     "output_type": "execute_result"
    }
   ],
   "source": [
    "#Leer Datos\n",
    "dat = pd.read_csv('oasis_longitudinal_demographics.csv')\n",
    "\n",
    "#Chequear NA values, 1 NA por imputed_genotype\n",
    "dat.isnull().sum()"
   ]
  },
  {
   "cell_type": "markdown",
   "metadata": {},
   "source": [
    "### Remove NA"
   ]
  },
  {
   "cell_type": "code",
   "execution_count": 3,
   "metadata": {
    "scrolled": true
   },
   "outputs": [
    {
     "data": {
      "text/plain": [
       "0"
      ]
     },
     "execution_count": 3,
     "metadata": {},
     "output_type": "execute_result"
    }
   ],
   "source": [
    "dat = dat.dropna()\n",
    "dat.isnull().sum().sum()"
   ]
  },
  {
   "cell_type": "code",
   "execution_count": 4,
   "metadata": {
    "scrolled": true
   },
   "outputs": [
    {
     "data": {
      "text/html": [
       "<div>\n",
       "<style scoped>\n",
       "    .dataframe tbody tr th:only-of-type {\n",
       "        vertical-align: middle;\n",
       "    }\n",
       "\n",
       "    .dataframe tbody tr th {\n",
       "        vertical-align: top;\n",
       "    }\n",
       "\n",
       "    .dataframe thead th {\n",
       "        text-align: right;\n",
       "    }\n",
       "</style>\n",
       "<table border=\"1\" class=\"dataframe\">\n",
       "  <thead>\n",
       "    <tr style=\"text-align: right;\">\n",
       "      <th></th>\n",
       "      <th>Subject ID</th>\n",
       "      <th>MRI ID</th>\n",
       "      <th>Group</th>\n",
       "      <th>Visit</th>\n",
       "      <th>MR Delay</th>\n",
       "      <th>M/F</th>\n",
       "      <th>Hand</th>\n",
       "      <th>Age</th>\n",
       "      <th>EDUC</th>\n",
       "      <th>SES</th>\n",
       "      <th>MMSE</th>\n",
       "      <th>CDR</th>\n",
       "      <th>eTIV</th>\n",
       "      <th>nWBV</th>\n",
       "      <th>ASF</th>\n",
       "    </tr>\n",
       "  </thead>\n",
       "  <tbody>\n",
       "    <tr>\n",
       "      <th>0</th>\n",
       "      <td>OAS2_0001</td>\n",
       "      <td>OAS2_0001_MR1</td>\n",
       "      <td>Nondemented</td>\n",
       "      <td>1</td>\n",
       "      <td>0</td>\n",
       "      <td>M</td>\n",
       "      <td>R</td>\n",
       "      <td>87</td>\n",
       "      <td>14</td>\n",
       "      <td>2.0</td>\n",
       "      <td>27.0</td>\n",
       "      <td>0</td>\n",
       "      <td>1986,55</td>\n",
       "      <td>0,696106</td>\n",
       "      <td>0,88344</td>\n",
       "    </tr>\n",
       "    <tr>\n",
       "      <th>1</th>\n",
       "      <td>OAS2_0001</td>\n",
       "      <td>OAS2_0001_MR2</td>\n",
       "      <td>Nondemented</td>\n",
       "      <td>2</td>\n",
       "      <td>457</td>\n",
       "      <td>M</td>\n",
       "      <td>R</td>\n",
       "      <td>88</td>\n",
       "      <td>14</td>\n",
       "      <td>2.0</td>\n",
       "      <td>30.0</td>\n",
       "      <td>0</td>\n",
       "      <td>2004,47952632607</td>\n",
       "      <td>0,681062</td>\n",
       "      <td>0,875539</td>\n",
       "    </tr>\n",
       "    <tr>\n",
       "      <th>5</th>\n",
       "      <td>OAS2_0004</td>\n",
       "      <td>OAS2_0004_MR1</td>\n",
       "      <td>Nondemented</td>\n",
       "      <td>1</td>\n",
       "      <td>0</td>\n",
       "      <td>F</td>\n",
       "      <td>R</td>\n",
       "      <td>88</td>\n",
       "      <td>18</td>\n",
       "      <td>3.0</td>\n",
       "      <td>28.0</td>\n",
       "      <td>0</td>\n",
       "      <td>1215,33</td>\n",
       "      <td>0,709512</td>\n",
       "      <td>1,44406</td>\n",
       "    </tr>\n",
       "  </tbody>\n",
       "</table>\n",
       "</div>"
      ],
      "text/plain": [
       "  Subject ID         MRI ID        Group  Visit  MR Delay M/F Hand  Age  EDUC  \\\n",
       "0  OAS2_0001  OAS2_0001_MR1  Nondemented      1         0   M    R   87    14   \n",
       "1  OAS2_0001  OAS2_0001_MR2  Nondemented      2       457   M    R   88    14   \n",
       "5  OAS2_0004  OAS2_0004_MR1  Nondemented      1         0   F    R   88    18   \n",
       "\n",
       "   SES  MMSE CDR              eTIV      nWBV       ASF  \n",
       "0  2.0  27.0   0           1986,55  0,696106   0,88344  \n",
       "1  2.0  30.0   0  2004,47952632607  0,681062  0,875539  \n",
       "5  3.0  28.0   0           1215,33  0,709512   1,44406  "
      ]
     },
     "execution_count": 4,
     "metadata": {},
     "output_type": "execute_result"
    }
   ],
   "source": [
    "#Echar un vistazo a los datos\n",
    "dat.head(3)"
   ]
  },
  {
   "cell_type": "markdown",
   "metadata": {},
   "source": [
    "### Remover ID's y otras características"
   ]
  },
  {
   "cell_type": "code",
   "execution_count": 5,
   "metadata": {
    "scrolled": true
   },
   "outputs": [
    {
     "name": "stdout",
     "output_type": "stream",
     "text": [
      "Borrando Columnas: ['Subject ID', 'MRI ID', 'Group', 'Visit', 'MR Delay', 'M/F', 'Hand']\n"
     ]
    },
    {
     "data": {
      "text/html": [
       "<div>\n",
       "<style scoped>\n",
       "    .dataframe tbody tr th:only-of-type {\n",
       "        vertical-align: middle;\n",
       "    }\n",
       "\n",
       "    .dataframe tbody tr th {\n",
       "        vertical-align: top;\n",
       "    }\n",
       "\n",
       "    .dataframe thead th {\n",
       "        text-align: right;\n",
       "    }\n",
       "</style>\n",
       "<table border=\"1\" class=\"dataframe\">\n",
       "  <thead>\n",
       "    <tr style=\"text-align: right;\">\n",
       "      <th></th>\n",
       "      <th>Age</th>\n",
       "      <th>EDUC</th>\n",
       "      <th>SES</th>\n",
       "      <th>MMSE</th>\n",
       "      <th>CDR</th>\n",
       "      <th>eTIV</th>\n",
       "      <th>nWBV</th>\n",
       "      <th>ASF</th>\n",
       "    </tr>\n",
       "  </thead>\n",
       "  <tbody>\n",
       "    <tr>\n",
       "      <th>0</th>\n",
       "      <td>87</td>\n",
       "      <td>14</td>\n",
       "      <td>2.0</td>\n",
       "      <td>27.0</td>\n",
       "      <td>0</td>\n",
       "      <td>1986,55</td>\n",
       "      <td>0,696106</td>\n",
       "      <td>0,88344</td>\n",
       "    </tr>\n",
       "    <tr>\n",
       "      <th>1</th>\n",
       "      <td>88</td>\n",
       "      <td>14</td>\n",
       "      <td>2.0</td>\n",
       "      <td>30.0</td>\n",
       "      <td>0</td>\n",
       "      <td>2004,47952632607</td>\n",
       "      <td>0,681062</td>\n",
       "      <td>0,875539</td>\n",
       "    </tr>\n",
       "    <tr>\n",
       "      <th>5</th>\n",
       "      <td>88</td>\n",
       "      <td>18</td>\n",
       "      <td>3.0</td>\n",
       "      <td>28.0</td>\n",
       "      <td>0</td>\n",
       "      <td>1215,33</td>\n",
       "      <td>0,709512</td>\n",
       "      <td>1,44406</td>\n",
       "    </tr>\n",
       "    <tr>\n",
       "      <th>6</th>\n",
       "      <td>90</td>\n",
       "      <td>18</td>\n",
       "      <td>3.0</td>\n",
       "      <td>27.0</td>\n",
       "      <td>0</td>\n",
       "      <td>1200,1</td>\n",
       "      <td>0,718214</td>\n",
       "      <td>1,46238</td>\n",
       "    </tr>\n",
       "    <tr>\n",
       "      <th>7</th>\n",
       "      <td>80</td>\n",
       "      <td>12</td>\n",
       "      <td>4.0</td>\n",
       "      <td>28.0</td>\n",
       "      <td>0</td>\n",
       "      <td>1688,58</td>\n",
       "      <td>0,711502</td>\n",
       "      <td>1,03933</td>\n",
       "    </tr>\n",
       "  </tbody>\n",
       "</table>\n",
       "</div>"
      ],
      "text/plain": [
       "   Age  EDUC  SES  MMSE CDR              eTIV      nWBV       ASF\n",
       "0   87    14  2.0  27.0   0           1986,55  0,696106   0,88344\n",
       "1   88    14  2.0  30.0   0  2004,47952632607  0,681062  0,875539\n",
       "5   88    18  3.0  28.0   0           1215,33  0,709512   1,44406\n",
       "6   90    18  3.0  27.0   0            1200,1  0,718214   1,46238\n",
       "7   80    12  4.0  28.0   0           1688,58  0,711502   1,03933"
      ]
     },
     "execution_count": 5,
     "metadata": {},
     "output_type": "execute_result"
    }
   ],
   "source": [
    "X = dat\n",
    "Y = dat['Subject ID']\n",
    "del dat\n",
    "\n",
    "#Remover columnas inecesarias (features), Se eliminan primeras 7 columnas y 'Hand'\n",
    "remove_columns = list(X.columns)[0:6]\n",
    "remove_columns.append('Hand')\n",
    "print('Borrando Columnas:', remove_columns)\n",
    "\n",
    "X = X.drop(remove_columns, axis=1)\n",
    "\n",
    "features = list(X.columns)\n",
    "X.head(5)"
   ]
  },
  {
   "cell_type": "markdown",
   "metadata": {},
   "source": [
    "## Explorando Data Analysis (EDA)"
   ]
  },
  {
   "cell_type": "code",
   "execution_count": 6,
   "metadata": {
    "scrolled": true
   },
   "outputs": [
    {
     "name": "stdout",
     "output_type": "stream",
     "text": [
      "Distribuciones de variables categóricas:\n",
      "\n",
      "\n",
      "Distribución de SES\n",
      "2.0    103\n",
      "1.0     88\n",
      "3.0     82\n",
      "4.0     74\n",
      "5.0      7\n",
      "Name: SES, dtype: int64\n",
      "\n",
      "Distribución de ASF\n",
      "1,25169     2\n",
      "0,88344     1\n",
      "1,147484    1\n",
      "1,35719     1\n",
      "1,15666     1\n",
      "           ..\n",
      "1,110986    1\n",
      "1,1184      1\n",
      "1,09784     1\n",
      "1,20497     1\n",
      "1,316634    1\n",
      "Name: ASF, Length: 353, dtype: int64\n",
      "\n",
      "Distribución de CDR\n",
      "0      206\n",
      "0,5    110\n",
      "1       35\n",
      "2        3\n",
      "Name: CDR, dtype: int64\n",
      "\n",
      "Distribución de nWBV\n",
      "0,696106    1\n",
      "0,679806    1\n",
      "0,704546    1\n",
      "0,725546    1\n",
      "0,700165    1\n",
      "           ..\n",
      "0,738652    1\n",
      "0,756579    1\n",
      "0,755485    1\n",
      "0,738581    1\n",
      "0,801248    1\n",
      "Name: nWBV, Length: 354, dtype: int64\n",
      "\n",
      "Distribución de eTIV\n",
      "1402,1              2\n",
      "1986,55             1\n",
      "1529,43309013459    1\n",
      "1293,11             1\n",
      "1517,3              1\n",
      "                   ..\n",
      "1579,67787172836    1\n",
      "1569,21             1\n",
      "1598,6              1\n",
      "1456,47             1\n",
      "1332,94446292592    1\n",
      "Name: eTIV, Length: 353, dtype: int64\n"
     ]
    }
   ],
   "source": [
    "numerical_vars = ['Age', 'MMSE', 'EDUC']\n",
    "cat_vars = list(set(features) - set(numerical_vars))\n",
    "\n",
    "print('Distribuciones de variables categóricas:\\n')\n",
    "\n",
    "for var in cat_vars:\n",
    "    print('\\nDistribución de', var)\n",
    "    \n",
    "    print(X[var].value_counts())"
   ]
  },
  {
   "cell_type": "markdown",
   "metadata": {},
   "source": [
    "#### Notas de distribución de Var categórico\n",
    "* El origen étnico y la raza son variables separadas\n",
    "* La distribución de hispanos, negros, blancos y asiáticos no es exactamente igual a la distribución étnica/racial general estadounidense\n",
    "* El genotipo APOE con 3 en el primer lugar parece ser una abrumadora mayoría `3,3` y `3,4`\n",
    "* Más hombres en estudio que mujeres"
   ]
  },
  {
   "cell_type": "markdown",
   "metadata": {},
   "source": [
    "### Distribuciones de variables numéricas\n",
    "* Las 3 distribuciones parecen un poco sesgadas a la derecha\n",
    "* **Edad**: `media = 75`, `min=55`, `max=89` - parece que no hay datos malos obvios\n",
    "* **MMSE**: `mean = 26.9`, `min=20`, `max=30` - parece que no hay datos erróneos obvios, NOTA: MMSE $\\in ~(0,30)$\n",
    "* **EDUC**: `mean = 15.6`, `min=6`, `max=20` - parece que no hay datos erróneos obvios."
   ]
  },
  {
   "cell_type": "code",
   "execution_count": 7,
   "metadata": {
    "scrolled": false
   },
   "outputs": [
    {
     "name": "stdout",
     "output_type": "stream",
     "text": [
      "Distribuciones numéricas de Variables:\n",
      "\n"
     ]
    },
    {
     "data": {
      "image/png": "[encoded data removed]",
      "text/plain": [
       "<Figure size 640x480 with 1 Axes>"
      ]
     },
     "metadata": {},
     "output_type": "display_data"
    },
    {
     "name": "stdout",
     "output_type": "stream",
     "text": [
      "count    354.000000\n",
      "mean      77.033898\n",
      "std        7.811808\n",
      "min       60.000000\n",
      "25%       71.000000\n",
      "50%       77.000000\n",
      "75%       82.000000\n",
      "max       98.000000\n",
      "Name: Age, dtype: float64\n"
     ]
    },
    {
     "data": {
      "image/png": "[encoded data removed]",
      "text/plain": [
       "<Figure size 640x480 with 1 Axes>"
      ]
     },
     "metadata": {},
     "output_type": "display_data"
    },
    {
     "name": "stdout",
     "output_type": "stream",
     "text": [
      "count    354.000000\n",
      "mean      27.409605\n",
      "std        3.712626\n",
      "min        4.000000\n",
      "25%       27.000000\n",
      "50%       29.000000\n",
      "75%       30.000000\n",
      "max       30.000000\n",
      "Name: MMSE, dtype: float64\n"
     ]
    },
    {
     "data": {
      "image/png": "[encoded data removed]",
      "text/plain": [
       "<Figure size 640x480 with 1 Axes>"
      ]
     },
     "metadata": {},
     "output_type": "display_data"
    },
    {
     "name": "stdout",
     "output_type": "stream",
     "text": [
      "count    354.000000\n",
      "mean      14.703390\n",
      "std        2.895662\n",
      "min        6.000000\n",
      "25%       12.000000\n",
      "50%       15.000000\n",
      "75%       16.750000\n",
      "max       23.000000\n",
      "Name: EDUC, dtype: float64\n"
     ]
    }
   ],
   "source": [
    "from matplotlib import pyplot as plt\n",
    "%matplotlib inline\n",
    "\n",
    "print('Distribuciones numéricas de Variables:\\n')\n",
    "\n",
    "for var in numerical_vars:\n",
    "    plt.hist(X[var], bins=10)\n",
    "    plt.title(var + ' Distribucion')\n",
    "    plt.show()\n",
    "    \n",
    "    # estadísticas descriptivas\n",
    "    print(X[var].describe())"
   ]
  },
  {
   "cell_type": "markdown",
   "metadata": {},
   "source": [
    "### Analizar la distribución objetivo (y)\n",
    "* Alto número (304) de deterioro limitado (LMCI). ¿Quizás la vejez? O los pacientes que se evalúan no son pacientes de edad avanzada al azar, sino pacientes que ya se sabe que tienen problemas cognitivos."
   ]
  },
  {
   "cell_type": "code",
   "execution_count": 8,
   "metadata": {
    "scrolled": true
   },
   "outputs": [
    {
     "data": {
      "image/png": "[encoded data removed]",
      "text/plain": [
       "<Figure size 640x480 with 1 Axes>"
      ]
     },
     "metadata": {},
     "output_type": "display_data"
    }
   ],
   "source": [
    "plt.bar(Y.value_counts().index, Y.value_counts())\n",
    "plt.show\n",
    "\n"
   ]
  },
  {
   "cell_type": "markdown",
   "metadata": {},
   "source": [
    "## Pre-processing"
   ]
  },
  {
   "cell_type": "markdown",
   "metadata": {},
   "source": [
    "### Convertir variables categóricas a 1-Hot\n",
    "* La próxima vez use `sklearn.preprocessing.OneHotEncoder`"
   ]
  },
  {
   "cell_type": "code",
   "execution_count": 9,
   "metadata": {
    "scrolled": true
   },
   "outputs": [
    {
     "name": "stdout",
     "output_type": "stream",
     "text": [
      "Convirtiendo SES a 1-hot codificacion\n",
      "Convirtiendo ASF a 1-hot codificacion\n",
      "Convirtiendo CDR a 1-hot codificacion\n",
      "Convirtiendo nWBV a 1-hot codificacion\n",
      "Convirtiendo eTIV a 1-hot codificacion\n"
     ]
    },
    {
     "data": {
      "text/html": [
       "<div>\n",
       "<style scoped>\n",
       "    .dataframe tbody tr th:only-of-type {\n",
       "        vertical-align: middle;\n",
       "    }\n",
       "\n",
       "    .dataframe tbody tr th {\n",
       "        vertical-align: top;\n",
       "    }\n",
       "\n",
       "    .dataframe thead th {\n",
       "        text-align: right;\n",
       "    }\n",
       "</style>\n",
       "<table border=\"1\" class=\"dataframe\">\n",
       "  <thead>\n",
       "    <tr style=\"text-align: right;\">\n",
       "      <th></th>\n",
       "      <th>Age</th>\n",
       "      <th>EDUC</th>\n",
       "      <th>MMSE</th>\n",
       "      <th>1.0</th>\n",
       "      <th>2.0</th>\n",
       "      <th>3.0</th>\n",
       "      <th>4.0</th>\n",
       "      <th>5.0</th>\n",
       "      <th>0,875539</th>\n",
       "      <th>0,88344</th>\n",
       "      <th>...</th>\n",
       "      <th>1847,87220937077</th>\n",
       "      <th>1890,57</th>\n",
       "      <th>1898,60476890572</th>\n",
       "      <th>1910,53</th>\n",
       "      <th>1926,45656032553</th>\n",
       "      <th>1927,70502049079</th>\n",
       "      <th>1930,58050520707</th>\n",
       "      <th>1956,96025530805</th>\n",
       "      <th>1986,55</th>\n",
       "      <th>2004,47952632607</th>\n",
       "    </tr>\n",
       "  </thead>\n",
       "  <tbody>\n",
       "    <tr>\n",
       "      <th>0</th>\n",
       "      <td>87</td>\n",
       "      <td>14</td>\n",
       "      <td>27.0</td>\n",
       "      <td>0</td>\n",
       "      <td>1</td>\n",
       "      <td>0</td>\n",
       "      <td>0</td>\n",
       "      <td>0</td>\n",
       "      <td>0</td>\n",
       "      <td>1</td>\n",
       "      <td>...</td>\n",
       "      <td>0</td>\n",
       "      <td>0</td>\n",
       "      <td>0</td>\n",
       "      <td>0</td>\n",
       "      <td>0</td>\n",
       "      <td>0</td>\n",
       "      <td>0</td>\n",
       "      <td>0</td>\n",
       "      <td>1</td>\n",
       "      <td>0</td>\n",
       "    </tr>\n",
       "    <tr>\n",
       "      <th>1</th>\n",
       "      <td>88</td>\n",
       "      <td>14</td>\n",
       "      <td>30.0</td>\n",
       "      <td>0</td>\n",
       "      <td>1</td>\n",
       "      <td>0</td>\n",
       "      <td>0</td>\n",
       "      <td>0</td>\n",
       "      <td>1</td>\n",
       "      <td>0</td>\n",
       "      <td>...</td>\n",
       "      <td>0</td>\n",
       "      <td>0</td>\n",
       "      <td>0</td>\n",
       "      <td>0</td>\n",
       "      <td>0</td>\n",
       "      <td>0</td>\n",
       "      <td>0</td>\n",
       "      <td>0</td>\n",
       "      <td>0</td>\n",
       "      <td>1</td>\n",
       "    </tr>\n",
       "    <tr>\n",
       "      <th>5</th>\n",
       "      <td>88</td>\n",
       "      <td>18</td>\n",
       "      <td>28.0</td>\n",
       "      <td>0</td>\n",
       "      <td>0</td>\n",
       "      <td>1</td>\n",
       "      <td>0</td>\n",
       "      <td>0</td>\n",
       "      <td>0</td>\n",
       "      <td>0</td>\n",
       "      <td>...</td>\n",
       "      <td>0</td>\n",
       "      <td>0</td>\n",
       "      <td>0</td>\n",
       "      <td>0</td>\n",
       "      <td>0</td>\n",
       "      <td>0</td>\n",
       "      <td>0</td>\n",
       "      <td>0</td>\n",
       "      <td>0</td>\n",
       "      <td>0</td>\n",
       "    </tr>\n",
       "    <tr>\n",
       "      <th>6</th>\n",
       "      <td>90</td>\n",
       "      <td>18</td>\n",
       "      <td>27.0</td>\n",
       "      <td>0</td>\n",
       "      <td>0</td>\n",
       "      <td>1</td>\n",
       "      <td>0</td>\n",
       "      <td>0</td>\n",
       "      <td>0</td>\n",
       "      <td>0</td>\n",
       "      <td>...</td>\n",
       "      <td>0</td>\n",
       "      <td>0</td>\n",
       "      <td>0</td>\n",
       "      <td>0</td>\n",
       "      <td>0</td>\n",
       "      <td>0</td>\n",
       "      <td>0</td>\n",
       "      <td>0</td>\n",
       "      <td>0</td>\n",
       "      <td>0</td>\n",
       "    </tr>\n",
       "  </tbody>\n",
       "</table>\n",
       "<p>4 rows × 1072 columns</p>\n",
       "</div>"
      ],
      "text/plain": [
       "   Age  EDUC  MMSE  1.0  2.0  3.0  4.0  5.0  0,875539  0,88344  ...  \\\n",
       "0   87    14  27.0    0    1    0    0    0         0        1  ...   \n",
       "1   88    14  30.0    0    1    0    0    0         1        0  ...   \n",
       "5   88    18  28.0    0    0    1    0    0         0        0  ...   \n",
       "6   90    18  27.0    0    0    1    0    0         0        0  ...   \n",
       "\n",
       "   1847,87220937077  1890,57  1898,60476890572  1910,53  1926,45656032553  \\\n",
       "0                 0        0                 0        0                 0   \n",
       "1                 0        0                 0        0                 0   \n",
       "5                 0        0                 0        0                 0   \n",
       "6                 0        0                 0        0                 0   \n",
       "\n",
       "   1927,70502049079  1930,58050520707  1956,96025530805  1986,55  \\\n",
       "0                 0                 0                 0        1   \n",
       "1                 0                 0                 0        0   \n",
       "5                 0                 0                 0        0   \n",
       "6                 0                 0                 0        0   \n",
       "\n",
       "   2004,47952632607  \n",
       "0                 0  \n",
       "1                 1  \n",
       "5                 0  \n",
       "6                 0  \n",
       "\n",
       "[4 rows x 1072 columns]"
      ]
     },
     "execution_count": 9,
     "metadata": {},
     "output_type": "execute_result"
    }
   ],
   "source": [
    "#para cada var categórico, convertir a codificación 1-hot\n",
    "for var in cat_vars:\n",
    "    print('Convirtiendo', var, 'a 1-hot codificacion')\n",
    "    \n",
    "    # obtenga 1-hot y reemplace la columna original con >= 2 categorías como columnas\n",
    "    one_hot_df = pd.get_dummies(X[var])\n",
    "    X = pd.concat([X, one_hot_df], axis=1)\n",
    "    X = X.drop(var, axis=1)\n",
    "    \n",
    "X.head(4)"
   ]
  },
  {
   "cell_type": "code",
   "execution_count": null,
   "metadata": {},
   "outputs": [],
   "source": []
  }
 ],
 "metadata": {
  "kernelspec": {
   "display_name": "Python 3 (ipykernel)",
   "language": "python",
   "name": "python3"
  },
  "language_info": {
   "codemirror_mode": {
    "name": "ipython",
    "version": 3
   },
   "file_extension": ".py",
   "mimetype": "text/x-python",
   "name": "python",
   "nbconvert_exporter": "python",
   "pygments_lexer": "ipython3",
   "version": "3.10.9"
  }
 },
 "nbformat": 4,
 "nbformat_minor": 2
}
